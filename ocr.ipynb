{
 "cells": [
  {
   "cell_type": "code",
   "execution_count": null,
   "metadata": {},
   "outputs": [
    {
     "name": "stdout",
     "output_type": "stream",
     "text": [
      "Detected handwritten digits:\n",
      "4\n",
      "\n"
     ]
    }
   ],
   "source": [
    "import cv2\n",
    "import pytesseract\n",
    "from PIL import Image\n",
    "\n",
    "#pytesseract.pytesseract.tesseract_cmd = r'C:\\Program Files\\Tesseract-OCR\\tesseract.exe'\n",
    "\n",
    "# general OCR not only for digits (not the best accuracy)\n",
    "def ocr_pytesseract_number_extraction_default(image):\n",
    "    # Open the image using Pillow\n",
    "    #you can remove the config to detect the text if you want but we only using it for digits detection\n",
    "    extracted_text = pytesseract.image_to_string(image, config='--psm 6 -c tessedit_char_whitelist=0123456789')\n",
    "    return extracted_text\n",
    "\n",
    "# print(ocr_pytesseract_number_extraction2('test_dataset/2.png'))\n",
    "\n",
    "def ocr_pytesseract_number_extraction(img):\n",
    "    if img is None:\n",
    "        print(\"Error: Unable to load the image.\")\n",
    "        return None\n",
    "\n",
    "    # Ensure the image is in grayscale format\n",
    "    if len(img.shape) == 3 and img.shape[2] == 3:\n",
    "        # Convert color image to grayscale\n",
    "        gray = cv2.cvtColor(img, cv2.COLOR_BGR2GRAY)\n",
    "    elif len(img.shape) == 2:\n",
    "        # Already in grayscale, no need to convert\n",
    "        gray = img\n",
    "    else:\n",
    "        print(\"Error: Invalid image format.\")\n",
    "        return None\n",
    "\n",
    "\n",
    "    # Apply thresholding to the grayscale image to improve OCR accuracy for images with inconsistent lighting or low contrast.\n",
    "    _, binary = cv2.threshold(gray, 0, 255, cv2.THRESH_BINARY_INV | cv2.THRESH_OTSU)\n",
    "\n",
    "    # custom configurations for single digits outputs\n",
    "    # --psm 10 (for single character recognition)\n",
    "    custom_config = r'--oem 3 --psm 10 outputbase digits'\n",
    "    text = pytesseract.image_to_string(binary, config=custom_config)\n",
    "\n",
    "    return text\n",
    "\n",
    "# Path to your handwritten digits image\n",
    "image_path = 'test_dataset/4.png'\n",
    "img=cv2.imread(image_path)\n",
    "\n",
    "result = ocr_pytesseract_number_extraction(img)\n",
    "\n",
    "print(\"Detected handwritten digits:\")\n",
    "print(result)"
   ]
  }
 ],
 "metadata": {
  "kernelspec": {
   "display_name": "Python 3",
   "language": "python",
   "name": "python3"
  },
  "language_info": {
   "codemirror_mode": {
    "name": "ipython",
    "version": 3
   },
   "file_extension": ".py",
   "mimetype": "text/x-python",
   "name": "python",
   "nbconvert_exporter": "python",
   "pygments_lexer": "ipython3",
   "version": "3.12.0"
  }
 },
 "nbformat": 4,
 "nbformat_minor": 2
}
