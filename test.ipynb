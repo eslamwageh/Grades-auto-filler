{
 "cells": [
  {
   "cell_type": "code",
   "execution_count": 19,
   "metadata": {},
   "outputs": [],
   "source": [
    "from sklearn.neighbors import KNeighborsClassifier\n",
    "from sklearn.neural_network import MLPClassifier\n",
    "from sklearn.model_selection import train_test_split\n",
    "from sklearn import svm\n",
    "import numpy as np\n",
    "import os\n",
    "import cv2\n",
    "from joblib import dump, load\n",
    "from commonfunctions import *\n",
    "\n",
    "target_img_size = (32, 32)"
   ]
  },
  {
   "cell_type": "code",
   "execution_count": 43,
   "metadata": {},
   "outputs": [
    {
     "name": "stdout",
     "output_type": "stream",
     "text": [
      "Loaded digits models from digits_models.joblib\n",
      "{'SVM': LinearSVC(random_state=42)}\n",
      "Loaded symbols models from symbols_models.joblib\n",
      "2\n",
      "9\n",
      "['check']\n",
      "['horizontal4']\n"
     ]
    }
   ],
   "source": [
    "def extract_hog_features(img):\n",
    "    \"\"\"\n",
    "    Extracts Histogram of Oriented Gradients (HOG) features from the input image.\n",
    "    This involves resizing the image to a fixed size, dividing it into cells and blocks, \n",
    "    computing gradient histograms, and flattening the result into a feature vector. \n",
    "    The extracted features are useful for machine learning tasks like image classification and detection.\n",
    "    \"\"\"\n",
    "    img = cv2.resize(img, dsize=target_img_size)\n",
    "    win_size = (32, 32) #The sliding window size over which HOG features are computed. In this case, it matches the image size (32x32)\n",
    "    cell_size = (4, 4) #Divides the window into smaller cells (4x4 pixels per cell).\n",
    "    block_size_in_cells = (2, 2) \n",
    "\n",
    "    # divides window to blocks then blocks to cells\n",
    "    block_size = (block_size_in_cells[1] * cell_size[1], block_size_in_cells[0] * cell_size[0])\n",
    "    block_stride = (cell_size[1], cell_size[0]) #Determines how much the block moves at each step (4x4 pixels, matching cell size).\n",
    "    nbins = 9  # Number of orientation bins\n",
    "    hog = cv2.HOGDescriptor(win_size, block_size, block_stride, cell_size, nbins)\n",
    "    h = hog.compute(img)\n",
    "    h = h.flatten()\n",
    "    return h.flatten() #This array is used as input for machine learning models.\n",
    "\n",
    "def load_model():\n",
    "    # Load the digits models dictionary\n",
    "    loaded_digits_models = load('digits_models.joblib')\n",
    "    print('Loaded digits models from digits_models.joblib')\n",
    "    print(loaded_digits_models)\n",
    "\n",
    "    # Load the symbols models dictionary\n",
    "    loaded_symbols_models = load('symbols_models.joblib')\n",
    "    print('Loaded symbols models from symbols_models.joblib')\n",
    "\n",
    "    # Return the loaded models\n",
    "    return loaded_digits_models, loaded_symbols_models\n",
    "    \n",
    "\n",
    "digits_models, symbols_models = load_model()\n",
    "    \n",
    "def predict_symbol(img):\n",
    "\n",
    "    test_features=extract_hog_features(img)\n",
    "    predicted_symbol=symbols_models['SVM'].predict([test_features])\n",
    "    return predicted_symbol\n",
    "\n",
    "\n",
    "\n",
    "def predict_digit(img):\n",
    "    test_features=extract_hog_features(img)\n",
    "    predicted_digit=digits_models['SVM'].predict([test_features])\n",
    "    predicted_digit_num = ord(predicted_digit[0].lower()) - ord('a') + 1\n",
    "    \n",
    "    return predicted_digit_num\n",
    "\n",
    "# test images\n",
    "img=cv2.imread('test_dataset/2.png',0)\n",
    "print(predict_digit(img))\n",
    "\n",
    "img=cv2.imread('test_dataset/9.png',0)\n",
    "print(predict_digit(img))\n",
    "\n",
    "img=cv2.imread('test_dataset/correct.png',0)\n",
    "print(predict_symbol(img))\n",
    "\n",
    "img=cv2.imread('test_dataset/hIIII.png',0)\n",
    "print(predict_symbol(img))"
   ]
  }
 ],
 "metadata": {
  "kernelspec": {
   "display_name": "Python 3",
   "language": "python",
   "name": "python3"
  },
  "language_info": {
   "codemirror_mode": {
    "name": "ipython",
    "version": 3
   },
   "file_extension": ".py",
   "mimetype": "text/x-python",
   "name": "python",
   "nbconvert_exporter": "python",
   "pygments_lexer": "ipython3",
   "version": "3.12.0"
  }
 },
 "nbformat": 4,
 "nbformat_minor": 2
}
