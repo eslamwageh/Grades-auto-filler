{
 "cells": [
  {
   "cell_type": "code",
   "execution_count": 1,
   "metadata": {},
   "outputs": [],
   "source": [
    "from grid_functions import *\n",
    "import ipywidgets as widgets\n",
    "from IPython.display import display, clear_output"
   ]
  },
  {
   "cell_type": "code",
   "execution_count": 2,
   "metadata": {},
   "outputs": [
    {
     "name": "stdout",
     "output_type": "stream",
     "text": [
      "Loaded digits models from digits_models.joblib\n",
      "{'SVM': LinearSVC(random_state=42)}\n",
      "Loaded symbols models from symbols_models.joblib\n"
     ]
    },
    {
     "data": {
      "application/vnd.jupyter.widget-view+json": {
       "model_id": "afaacac42bc64497bfe8d38410bec581",
       "version_major": 2,
       "version_minor": 0
      },
      "text/plain": [
       "Dropdown(description='Method:', options=('OCR', 'Features + Classifier'), style=DescriptionStyle(description_w…"
      ]
     },
     "metadata": {},
     "output_type": "display_data"
    },
    {
     "data": {
      "application/vnd.jupyter.widget-view+json": {
       "model_id": "e37faa3f773943a6a218d7f756ec3f17",
       "version_major": 2,
       "version_minor": 0
      },
      "text/plain": [
       "Button(button_style='success', description='Process', style=ButtonStyle(), tooltip='Click to start processing …"
      ]
     },
     "metadata": {},
     "output_type": "display_data"
    },
    {
     "data": {
      "application/vnd.jupyter.widget-view+json": {
       "model_id": "f38d28c18a324dc3b6526cb197324778",
       "version_major": 2,
       "version_minor": 0
      },
      "text/plain": [
       "Output()"
      ]
     },
     "metadata": {},
     "output_type": "display_data"
    }
   ],
   "source": [
    "selected_method = None\n",
    "digits_models, symbols_models = load_model()\n",
    "\n",
    "# Create a dropdown widget\n",
    "method_selector = widgets.Dropdown(\n",
    "    options=['OCR', 'Features + Classifier'],\n",
    "    value='OCR',  # Default value\n",
    "    description='Method:',\n",
    "    style={'description_width': 'initial'}\n",
    ")\n",
    "\n",
    "# Button to confirm selection\n",
    "process_button = widgets.Button(\n",
    "    description='Process',\n",
    "    button_style='success',\n",
    "    tooltip='Click to start processing with the selected method'\n",
    ")\n",
    "\n",
    "# Output widget for displaying results\n",
    "output = widgets.Output()\n",
    "\n",
    "def program(selected_method = 'OCR'):\n",
    "    img = cv2.imread('Grid/start.jpg')\n",
    "    img = cv2.cvtColor(img, cv2.COLOR_BGR2RGB)\n",
    "    print(img.shape)\n",
    "    img = cv2.resize(img, (3000, 3000))\n",
    "    full_paper = getPerspective(img)\n",
    "    full_paper = full_paper[100:, :]\n",
    "    clustered_horizontal, clustered_vertical = getLines(full_paper)\n",
    "    cells = extractCells(full_paper, clustered_horizontal, clustered_vertical)\n",
    "    predictCells(cells, digits_models, symbols_models, selected_method)\n",
    "\n",
    "# Function to handle button click\n",
    "def on_button_click(b):\n",
    "    with output:\n",
    "        clear_output()  # Clear previous outputs\n",
    "        selected_method = method_selector.value\n",
    "        if selected_method == 'OCR':\n",
    "            print(\"Processing using Method 1: OCR\")\n",
    "        elif selected_method == 'Features + Classifier':\n",
    "            print(\"Processing using Method 2: Features + Classifier\")\n",
    "        program(selected_method)\n",
    "        \n",
    "# Attach the click event to the button\n",
    "process_button.on_click(on_button_click)\n",
    "\n",
    "# Display widgets\n",
    "display(method_selector, process_button, output)\n"
   ]
  },
  {
   "cell_type": "code",
   "execution_count": 3,
   "metadata": {},
   "outputs": [],
   "source": [
    "\n",
    "\n",
    "# digits_models, symbols_models = load_model()\n",
    "\n",
    "\n",
    "# img = cv2.imread('Grid/start.jpg')\n",
    "# img = cv2.cvtColor(img, cv2.COLOR_BGR2RGB)\n",
    "# print(img.shape)\n",
    "# img = cv2.resize(img, (3000, 3000))\n",
    "# full_paper = getPerspective(img)\n",
    "# full_paper = full_paper[100:, :]\n",
    "# clustered_horizontal, clustered_vertical = getLines(full_paper)\n",
    "# cells = extractCells(full_paper, clustered_horizontal, clustered_vertical)\n",
    "# predictCells(cells, digits_models, symbols_models)"
   ]
  }
 ],
 "metadata": {
  "kernelspec": {
   "display_name": "Python 3",
   "language": "python",
   "name": "python3"
  },
  "language_info": {
   "codemirror_mode": {
    "name": "ipython",
    "version": 3
   },
   "file_extension": ".py",
   "mimetype": "text/x-python",
   "name": "python",
   "nbconvert_exporter": "python",
   "pygments_lexer": "ipython3",
   "version": "3.12.0"
  }
 },
 "nbformat": 4,
 "nbformat_minor": 2
}
